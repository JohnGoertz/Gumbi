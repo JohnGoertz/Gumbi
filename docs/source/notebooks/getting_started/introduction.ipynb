{
    "cells": [
        {
            "cell_type": "code",
            "execution_count": null,
            "id": "c675e224",
            "metadata": {},
            "outputs": [],
            "source": []
        },
        {
            "cell_type": "markdown",
            "id": "e8603106",
            "metadata": {},
            "source": [
                "# Introduction\n",
                "\n",
                "Gumbi simplifies the steps needed to build a Gaussian Process model from tabular data. It takes care of shaping,\n",
                "transforming, and standardizing data as necessary while applying best practices and sensible defaults to the\n",
                "construction of the GP model itself. Taking inspiration from popular packages such as\n",
                "__[Bambi](https://bambinos.github.io/bambi/main/index.html)__ and __[Seaborn](https://seaborn.pydata.org/index.html)__,\n",
                "Gumbi's aim is to allow quick iteration on both model structure and prediction visualization. Gumbi is primarily built\n",
                "on top of __[Pymc](https://docs.pymc.io/)__, though additional support for __[GPflow](https://gpflow.readthedocs.io/)__\n",
                "is planned."
            ]
        },
        {
            "cell_type": "markdown",
            "id": "95e885d8",
            "metadata": {},
            "source": [
                "## Quickstart"
            ]
        },
        {
            "cell_type": "markdown",
            "id": "33b5a0b0",
            "metadata": {},
            "source": [
                "Read in some data and store it as a Gumbi `DataSet`:\n"
            ]
        },
        {
            "cell_type": "code",
            "execution_count": 1,
            "id": "eec03084",
            "metadata": {
                "execution": {
                    "iopub.execute_input": "2021-11-26T22:12:22.518715Z",
                    "iopub.status.busy": "2021-11-26T22:12:22.518223Z",
                    "iopub.status.idle": "2021-11-26T22:12:26.618366Z",
                    "shell.execute_reply": "2021-11-26T22:12:26.619034Z"
                }
            },
            "outputs": [
                {
                    "name": "stderr",
                    "output_type": "stream",
                    "text": [
                        "WARNING (pytensor.tensor.blas): Using NumPy C-API based implementation for BLAS functions.\n"
                    ]
                }
            ],
            "source": [
                "import gumbi as gmb\n",
                "import seaborn as sns\n",
                "cars = sns.load_dataset('mpg').dropna()\n",
                "ds = gmb.DataSet(cars, outputs=['mpg', 'acceleration'], log_vars=['mpg', 'acceleration', 'horsepower'])"
            ]
        },
        {
            "cell_type": "markdown",
            "id": "fb6204cd",
            "metadata": {},
            "source": [
                "\n",
                "Create a Gumbi `GP` object and fit a model that predicts *mpg* from *horsepower*:"
            ]
        },
        {
            "cell_type": "code",
            "execution_count": 2,
            "id": "518e0aa9",
            "metadata": {
                "execution": {
                    "iopub.execute_input": "2021-11-26T22:12:26.654091Z",
                    "iopub.status.busy": "2021-11-26T22:12:26.629957Z",
                    "iopub.status.idle": "2021-11-26T22:12:51.210835Z",
                    "shell.execute_reply": "2021-11-26T22:12:51.211764Z"
                }
            },
            "outputs": [
                {
                    "name": "stdout",
                    "output_type": "stream",
                    "text": [
                        "\n"
                    ]
                }
            ],
            "source": [
                "gp = gmb.GP(ds)\n",
                "gp.fit(outputs=['mpg'], continuous_dims=['horsepower']);"
            ]
        },
        {
            "cell_type": "markdown",
            "id": "202c58a7",
            "metadata": {},
            "source": [
                "\n",
                "Make predictions and plot!"
            ]
        },
        {
            "cell_type": "code",
            "execution_count": 3,
            "id": "9d55555d",
            "metadata": {
                "execution": {
                    "iopub.execute_input": "2021-11-26T22:12:51.227722Z",
                    "iopub.status.busy": "2021-11-26T22:12:51.226275Z",
                    "iopub.status.idle": "2021-11-26T22:12:54.814953Z",
                    "shell.execute_reply": "2021-11-26T22:12:54.815460Z"
                }
            },
            "outputs": [
                {
                    "data": {
                        "text/plain": [
                            "<Axes: xlabel='horsepower', ylabel='mpg'>"
                        ]
                    },
                    "execution_count": 3,
                    "metadata": {},
                    "output_type": "execute_result"
                },
                {
                    "data": {
                        "image/png": "[encoded data removed]",
                        "text/plain": [
                            "<Figure size 640x480 with 1 Axes>"
                        ]
                    },
                    "metadata": {},
                    "output_type": "display_data"
                }
            ],
            "source": [
                "X = gp.prepare_grid()\n",
                "y = gp.predict_grid()\n",
                "gmb.ParrayPlotter(X, y).plot()"
            ]
        },
        {
            "cell_type": "markdown",
            "id": "6b267d3b",
            "metadata": {},
            "source": [
                "\n",
                "More complex GPs are also possible, such as correlated multi-input and multi-output systems, demonstrated in the example notebooks."
            ]
        },
        {
            "cell_type": "markdown",
            "id": "38191a00",
            "metadata": {},
            "source": [
                "## Installation\n",
                "### Via pip\n",
                "\n",
                "    pip install gumbi\n",
                "\n",
                "### Bleeding edge\n",
                "\n",
                "    pip install git+git://github.com/JohnGoertz/Gumbi.git@develop\n",
                "\n",
                "### Local development\n",
                "\n",
                "* Clone the repo and navigate to the new directory\n",
                "\n",
                "  * `git clone https://gitlab.com/JohnGoertz/gumbi gumbi`\n",
                "\n",
                "  * `cd gumbi`\n",
                "\n",
                "* Create a new conda environment using mamba\n",
                "\n",
                "  * `conda install mamba`\n",
                "\n",
                "  * `mamba install -f gumbi_env.yaml`\n",
                "\n",
                "* Install `gumbi` via `pip` in editable/development mode\n",
                "\n",
                "  * From within the `gumbi` repo\n",
                "\n",
                "  * `pip install --editable ./`\n",
                "\n",
                "* To update the `gumbi` module\n",
                "\n",
                "  * From within the `gumbi` repo\n",
                "\n",
                "  * `git pull`\n"
            ]
        }
    ],
    "metadata": {
        "jupytext": {
            "cell_metadata_filter": "-all",
            "formats": "ipynb,.pct.py:percent",
            "notebook_metadata_filter": "kernelspec"
        },
        "kernelspec": {
            "display_name": "Python 3 (ipykernel)",
            "language": "python",
            "name": "python3"
        },
        "language_info": {
            "codemirror_mode": {
                "name": "ipython",
                "version": 3
            },
            "file_extension": ".py",
            "mimetype": "text/x-python",
            "name": "python",
            "nbconvert_exporter": "python",
            "pygments_lexer": "ipython3",
            "version": "3.11.3"
        }
    },
    "nbformat": 4,
    "nbformat_minor": 5
}
